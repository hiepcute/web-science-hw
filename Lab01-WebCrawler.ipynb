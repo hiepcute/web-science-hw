{
 "cells": [
  {
   "cell_type": "markdown",
   "metadata": {
    "colab_type": "text",
    "id": "2pCaNEE5V4Kd"
   },
   "source": [
    "# Lab01: Web Crawler.\n",
    "\n",
    "- MSSV:1712429 \n",
    "- Họ và tên:Đỗ Văn Hiệp"
   ]
  },
  {
   "cell_type": "markdown",
   "metadata": {
    "colab_type": "text",
    "id": "RW12ABtEV4Kf"
   },
   "source": [
    "## Yêu cầu bài tập\n",
    "\n",
    "**Cách làm bài**\n",
    "\n",
    "\n",
    "Bạn sẽ làm trực tiếp trên file notebook này; trong file, từ `TODO` để cho biết những phần mà bạn cần phải làm.\n",
    "\n",
    "Bạn có thể thảo luận ý tưởng cũng như tham khảo các tài liệu, nhưng *code và bài làm phải là của bạn*. \n",
    "\n",
    "Nếu vi phạm thì sẽ bị 0 điểm cho bài tập này.\n",
    "\n",
    "**Cách nộp bài**\n",
    "\n",
    "Trước khi nộp bài, rerun lại notebook (`Kernel` -> `Restart & Run All`).\n",
    "\n",
    "Sau đó, tạo thư mục có tên `MSSV` của bạn (vd, nếu bạn có MSSV là 1234567 thì bạn đặt tên thư mục là `1234567`) Chép file `Lab01-WebCrawler.ipynb`, `links.txt`, `images.txt` vào, rồi nén thư mục `MSSV` này lại và nộp ở link trên moodle.\n",
    "\n",
    "**Nội dung bài tập**\n",
    "\n",
    "Sử dụng module regex và request để thu thập đường dẫn và hình ảnh từ một trang web."
   ]
  },
  {
   "cell_type": "markdown",
   "metadata": {
    "colab_type": "text",
    "id": "7SXPfWz-V4Kg"
   },
   "source": [
    "#### 1. Import"
   ]
  },
  {
   "cell_type": "code",
   "execution_count": 1,
   "metadata": {
    "colab": {},
    "colab_type": "code",
    "id": "NZH1daHoV4Kg"
   },
   "outputs": [],
   "source": [
    "import requests\n",
    "import re\n"
   ]
  },
  {
   "cell_type": "markdown",
   "metadata": {
    "colab_type": "text",
    "id": "WzzuOjDGV4Kl"
   },
   "source": [
    "#### 2. Thu thập liên kết"
   ]
  },
  {
   "cell_type": "code",
   "execution_count": 2,
   "metadata": {
    "colab": {},
    "colab_type": "code",
    "id": "bKNjb0THV4Km",
    "outputId": "ef7e8623-d644-4001-ce5c-31b845a37035"
   },
   "outputs": [
    {
     "name": "stdout",
     "output_type": "stream",
     "text": [
      "http://www.w3.org/1999/xhtml\"\n",
      "  \n",
      "https://www.hcmus.edu.vn/\"\n",
      "  \n",
      "https://www.hcmus.edu.vn/component/search/?id=1&amp;Itemid=437&amp;format=opensearch\"\n",
      "  \n",
      "http://www.hcmus.edu.vn');\n",
      "  \n",
      "http://portal.hcmus.edu.vn/\"\n",
      "  \n",
      "http://mail.office365.com/\"\n",
      "  \n",
      "https://www.google.com/a/hcmus.edu.vn/ServiceLogin?service=mail&amp;passive=true&amp;rm=false&amp;continue=http://mail.google.com/a/hcmus.edu.vn/&amp;ltmpl=default&amp;ltmplcache=2\"\n",
      "  \n",
      "http://www.hcmus.edu.vn/lich-cong-tac\"\n",
      "  \n",
      "http://en.hcmus.edu.vn/\"\n",
      "  \n",
      "http://www.hcmus.edu.vn/\"\n",
      "  \n",
      "http://congdoan.hcmus.edu.vn/\"\n",
      "  \n",
      "http://doantn.hcmus.edu.vn/\"\n",
      "  \n",
      "https://www.hcmus.edu.vn/phone\"\n",
      "  \n",
      "https://jobs.hcmus.edu.vn\"\n",
      "  \n",
      "http://tuyensinh.hcmus.edu.vn/\"\n",
      "  \n",
      "https://sdh.hcmus.edu.vn/tuyen-sinh/\"\n",
      "  \n",
      "https://sdh.hcmus.edu.vn/\"\n",
      "  \n",
      "http://www.e-learning.vn\"\n",
      "  \n",
      "https://pdt.hcmus.edu.vn/dstn\"\n",
      "  \n",
      "https://hnkh.hcmus.edu.vn/\"\n",
      "  \n",
      "http://stdjns.scienceandtechnology.com.vn/\"\n",
      "  \n",
      "http://www.bmrat.org/\"\n",
      "  \n",
      "http://cellstemcell.org/\"\n",
      "  \n",
      "http://www.progressinbiology.org/index.php/ProBio\"\n",
      "  \n",
      "http://ajhs.biomedpress.org/index.php/ajhs\"\n",
      "  \n",
      "https://www.hcmus.edu.vn/ho-so-pgs-gs\"\n",
      "  \n",
      "http://www.hcmus.edu.vn/cbvc\"><img\n",
      "  \n",
      "http://www.hcmus.edu.vn/sinh-vien\"><img\n",
      "  \n",
      "https://sdh.hcmus.edu.vn/thong-bao/\"><img\n",
      "  \n",
      "http://www.hcmus.edu.vn/job\"><img\n",
      "  \n",
      "http://www.w3.org/2000/svg\"\n",
      "  \n",
      "http://stdjns.scienceandtechnology.com.vn/\"><img\n",
      "  \n",
      "http://www.bmrat.org/\"><img\n",
      "  \n",
      "http://cellstemcell.org/\"><img\n",
      "  \n",
      "http://web.hcmus.edu.vn/index.php?option=com_content&amp;task=view&amp;id=10381&amp;Itemid=9\">Quy\n",
      "  \n",
      "https://www.facebook.com/us.vnuhcm/\"\n",
      "  \n",
      "https://www.facebook.com/tvts.hcmus\"\n",
      "  \n"
     ]
    }
   ],
   "source": [
    "r = requests.get(\"http://www.hcmus.edu.vn\")\n",
    "\n",
    "# TODO:\n",
    "# Displays all the links present in the specified root URL - \"http://www.hcmus.edu.vn\"\n",
    "# use regex to find all urls from r.text (http[s]://...)\n",
    "# urls = ? \n",
    "\n",
    "# Checking results?\n",
    "# for i in urls:\n",
    "#     print(i)\n",
    "\n",
    "urls=re.findall(r'(https?://\\S+)', r.text)\n",
    "\n",
    "# loại bỏ các phần tử trùng nhau trong urls \n",
    "urls_new=[]\n",
    "for i in urls:\n",
    "    if (i not in urls_new):\n",
    "        urls_new.append(i)\n",
    "#Save urls to links.txt\n",
    "for i  in urls_new:\n",
    "    print(i)\n",
    "    print(\"  \")\n",
    "fp = open('links.txt', 'w')\n",
    "for i in urls_new:\n",
    "    fp.write(i)\n",
    "    fp.write('\\n')\n",
    "fp.close()\n",
    "#nguồn tham khảo :https://stackoverflow.com/questions/839994/extracting-a-url-in-python"
   ]
  },
  {
   "cell_type": "markdown",
   "metadata": {
    "colab_type": "text",
    "id": "uZJne0sSV4Kq"
   },
   "source": [
    "#### 3. Thu thập hình ảnh"
   ]
  },
  {
   "cell_type": "code",
   "execution_count": 3,
   "metadata": {
    "colab": {},
    "colab_type": "code",
    "id": "IiYJxbp6V4Kq",
    "outputId": "2b6d5963-213f-4842-c61f-52d94c7b5b43"
   },
   "outputs": [
    {
     "name": "stdout",
     "output_type": "stream",
     "text": [
      "/images/logo81.png\n",
      "/images/2020/02/04/1-img_4820.jpg\n",
      "/images/2020/04/07/bn2.jpg\n",
      "/images/2021/03/16/icon-01.png\n",
      "/images/2021/03/16/icon-02.png\n",
      "/images/2021/03/16/icon-03.png\n",
      "/images/2021/03/16/icon-04.png\n",
      "/images/2021/02/16/145472669_2907185929563442_5607552814352607280_n.png\n",
      "/images/2021/02/01/thong-bao-01-1.png\n",
      "/images/2017/05/08/hcmus2.jpg\n",
      "/images/2017/08/14/khcn.jpg\n",
      "/images/2017/08/14/bmrat1.png\n",
      "/images/2017/08/14/logo_psc1.png\n",
      "/images/2020/04/09/logo-khtn_full.png\n"
     ]
    }
   ],
   "source": [
    "# TODO:\n",
    "# Displays the source of all the images present in the root URL:\n",
    "# img_src=?\n",
    "text_source = r.text\n",
    "pat = re.compile(r'<\\s*img [^>]*src=\"([^\"]+)')\n",
    "img_src = pat.findall(text_source)\n",
    "\n",
    "\n",
    "# Checking results?\n",
    "#loại bỏ các phần tử giống nhau trong img_src\n",
    "img_src_new=[]\n",
    "for i in img_src:\n",
    "    if i in img_src and i not in img_src_new:\n",
    "        img_src_new.append(i)\n",
    "#print\n",
    "for i in img_src_new:\n",
    "    print(i)\n",
    "\n",
    "fp = open('images.txt', 'w')\n",
    "for i in img_src_new:\n",
    "    fp.write(i)\n",
    "    fp.write('\\n')\n",
    "fp.close()\n",
    "# nguồn tham khảo :https://stackoverflow.com/questions/19477252/finding-images-in-html-source-code-with-python"
   ]
  },
  {
   "cell_type": "markdown",
   "metadata": {
    "colab_type": "text",
    "id": "53VR6MqBV4Ku"
   },
   "source": [
    "Viết chữ\n"
   ]
  },
  {
   "cell_type": "code",
   "execution_count": null,
   "metadata": {
    "colab": {},
    "colab_type": "code",
    "id": "AGr5PMPoV4Ku"
   },
   "outputs": [],
   "source": []
  }
 ],
 "metadata": {
  "colab": {
   "name": "Lab01-WebCrawler.ipynb",
   "provenance": []
  },
  "kernelspec": {
   "display_name": "Python 3",
   "language": "python",
   "name": "python3"
  },
  "language_info": {
   "codemirror_mode": {
    "name": "ipython",
    "version": 3
   },
   "file_extension": ".py",
   "mimetype": "text/x-python",
   "name": "python",
   "nbconvert_exporter": "python",
   "pygments_lexer": "ipython3",
   "version": "3.7.1"
  }
 },
 "nbformat": 4,
 "nbformat_minor": 1
}
